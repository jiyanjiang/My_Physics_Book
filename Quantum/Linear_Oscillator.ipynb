{
 "cells": [
  {
   "cell_type": "markdown",
   "metadata": {},
   "source": [
    "# 弹簧振子\n",
    "\n",
    "弹簧振子的能量：\n",
    "\n",
    "$H = \\frac{mv^2}{2} + \\frac{kx^2}{2} =\\frac{p^2}{2m } + \\frac{kx^2}{2}$\n",
    "\n",
    "弹簧的物理图像：质量可以忽略不计的弹簧末端，挂着一个质量为$m$的物体。\n",
    "\n",
    "$x$: 代表弹簧对平衡位置的偏离；\n",
    "\n",
    "<img src=\"https://encrypted-tbn0.gstatic.com/images?q=tbn:ANd9GcTkdBDqdXm3SH2POp0FvQeset1kqM4BkR3ZTh_NoGndPw&s\" width=\"300\">\n",
    "\n",
    "弹簧的弹性系数为$k$，弹性回复力：$F = - kx$，这里的负号“-”，代表力的方向和位移的方向相反。\n",
    "\n",
    "## 经典求解\n",
    "\n",
    "$F = m\\ddot x = -kx$\n",
    "\n",
    "即：$\\ddot x + \\frac{k}{m}x =0$\n",
    "\n",
    "这里的$x$，实际上是$x(t)$，即物体位置随时间变化的规律。\n",
    "\n",
    "假设, $x = e^{i \\omega t}$, $\\dot x = i \\omega e^{i \\omega t}$, $\\ddot x = - \\omega^2 e^{i \\omega t} = - \\omega^2 x$\n",
    "\n",
    "即：$\\omega^2 = \\frac{k}{m}$, 或: $k = m \\omega^2$\n",
    "\n",
    "因此：$x(t) = A \\cos (\\omega t + \\phi)$\n",
    "\n",
    "$v (t) = \\dot x(t) =- \\omega A\\sin(\\omega t + \\phi)$\n",
    "\n",
    "$a (t) = \\ddot x(t) = - \\omega^2 A\\cos( \\omega t + \\phi)$\n",
    "\n",
    "换言之：\n",
    "\n",
    "$$H = \\frac{p^2}{2m} + \\frac{m \\omega^2}{2}x^2 $$"
   ]
  },
  {
   "cell_type": "markdown",
   "metadata": {},
   "source": [
    "## 量子力学情形\n",
    "\n",
    "$H = \\frac{P^2}{2m} + \\frac{m\\omega^2}{2}X^2 $\n",
    "\n",
    "这里$X, P$是算符，是一个完全平方的形式。且满足：\n",
    "\n",
    "$\\left[X, P \\right] = i \\hbar$\n",
    "\n",
    "考虑：$a^2 - b^2 =(a-b)(a+b)$，$a^2 + b^2 = (a + ib)(a - ib)$\n"
   ]
  },
  {
   "cell_type": "markdown",
   "metadata": {},
   "source": [
    "我们来计算：\n",
    "\n",
    "$\\hbar \\omega \\left( \\frac{P}{\\sqrt{2m \\hbar \\omega} } + i \\sqrt{\\frac{m \\omega}{2\\hbar}}X \\right) \\left( \\frac{P}{\\sqrt{2m \\hbar \\omega}} - i \\sqrt{\\frac{m \\omega}{2\\hbar}}X \\right)$"
   ]
  },
  {
   "cell_type": "markdown",
   "metadata": {},
   "source": [
    "上式展开，由于$\\left[X, P \\right] = i \\hbar$，交叉项不为0\n",
    "\n",
    "$ = \\frac{P^2}{2m} + \\frac{m \\omega^2}{2}X^2 + i \\frac{\\omega}{2}(XP - PX) = \\frac{P^2}{2m} + \\frac{m \\omega^2}{2}X^2 - \\frac{\\hbar \\omega}{2}$"
   ]
  },
  {
   "cell_type": "markdown",
   "metadata": {},
   "source": [
    "整理一下：\n",
    "\n",
    "$H = \\frac{P^2}{2 m}+ \\frac{m \\omega^2}{2}X^2 \\\\= \\hbar \\omega \\left( \\frac{P}{\\sqrt{2m \\hbar \\omega} } + i \\sqrt{\\frac{m \\omega}{2\\hbar}}X \\right) \\left( \\frac{P}{\\sqrt{2m \\hbar \\omega}} - i \\sqrt{\\frac{m \\omega}{2\\hbar}}X \\right) + \\frac{\\hbar \\omega}{2}$"
   ]
  },
  {
   "cell_type": "markdown",
   "metadata": {},
   "source": [
    "定义：\n",
    "\n",
    "$a = \\frac{P}{\\sqrt{2m \\hbar \\omega}} - i \\sqrt{\\frac{m \\omega}{2\\hbar}}X$\n",
    "\n",
    "$a$的厄米共轭\n",
    "\n",
    "$a^\\dagger = \\frac{P}{\\sqrt{2m \\hbar \\omega}} + i \\sqrt{\\frac{m \\omega}{2\\hbar}}X$"
   ]
  },
  {
   "cell_type": "markdown",
   "metadata": {},
   "source": [
    "可以证明：$\\left[ a , a^\\dagger \\right]= 1$ （对易关系是玻色型的）\n",
    "\n",
    "最终：\n",
    "\n",
    "$$H = \\hbar \\omega \\left(a^\\dagger a + \\frac{1}{2}  \\right) $$"
   ]
  },
  {
   "cell_type": "markdown",
   "metadata": {},
   "source": [
    "这里新出现了一个算符$a^\\dagger a$，它的物理意义是什么？\n",
    "\n",
    "首先，它是一个厄米算符：\n",
    "\n",
    "$\\left( a^\\dagger a \\right)^\\dagger = a^\\dagger a$，这意味着它有个物理量（取实数的本征值与之对应），假设为$n$\n",
    "\n",
    "本征值问题：\n",
    "\n",
    "$a^\\dagger a \\left| n \\right\\rangle = n \\left| n \\right\\rangle$"
   ]
  },
  {
   "cell_type": "markdown",
   "metadata": {},
   "source": [
    "考虑：$ \\left[ a^\\dagger a, a \\right] = \\left[a^\\dagger, a  \\right] a = -a$"
   ]
  },
  {
   "cell_type": "markdown",
   "metadata": {},
   "source": [
    "把上式作用于$\\left| n \\right\\rangle$\n",
    "\n",
    "$ \\left( a^\\dagger a a- a a^\\dagger a \\right) \\left| n \\right\\rangle$"
   ]
  },
  {
   "cell_type": "markdown",
   "metadata": {},
   "source": [
    "$ = a^\\dagger a \\left(a \\left| n \\right\\rangle \\right)  - a n \\left| n \\right\\rangle\\\\= - a\\left| n \\right\\rangle $"
   ]
  },
  {
   "cell_type": "markdown",
   "metadata": {},
   "source": [
    "即：\n",
    "\n",
    "$ a^\\dagger a a \\left| n \\right\\rangle = (n-1)a \\left| n \\right\\rangle $\n",
    "\n",
    "这意味着$a \\left| n \\right\\rangle $对应的本征值是$(n-1)$，\n",
    "\n",
    "我们还需将$a \\left|n \\right\\rangle $归一化"
   ]
  },
  {
   "cell_type": "markdown",
   "metadata": {},
   "source": [
    "$a \\left|n \\right\\rangle $对应在左矢空间中的向量为：$\\left\\langle n \\right|   a^\\dagger$，\n",
    "\n",
    "$\\left\\langle n \\right| a^\\dagger a \\left| n \\right\\rangle = n $"
   ]
  },
  {
   "cell_type": "markdown",
   "metadata": {},
   "source": [
    "因此：\n",
    "\n",
    "$\\left| n - 1 \\right\\rangle =\\frac{1}{\\sqrt n} a \\left| n \\right\\rangle$，或：$a \\left| n \\right\\rangle = \\sqrt n \\left| n-1 \\right\\rangle$"
   ]
  },
  {
   "cell_type": "markdown",
   "metadata": {},
   "source": [
    "类似地，可证明：$a^\\dagger\\left| n \\right\\rangle = \\sqrt{n + 1} \\left| n + 1 \\right\\rangle$\n",
    "\n",
    "### 产生、湮灭算符\n",
    "\n",
    "$a$：湮灭算符，$a^\\dagger$：产生算符。"
   ]
  },
  {
   "cell_type": "markdown",
   "metadata": {},
   "source": [
    "## 数算符\n",
    "\n",
    "$a^\\dagger a$有以下性质：\n",
    "\n",
    "1. 它的本征值$n$是非负的，$n \\ge 0$；\n",
    "2. $n$应当不是分数，否则用$a$（湮灭算符）作用于本征态，$n$会变成负数；\n",
    "3. $n$只能是正整数或0，即：$n = 0, 1, 2, ...$。\n",
    "4. 对$n=0$，$a \\left| 0 \\right\\rangle = 0$\n",
    "\n",
    "能量本征值：$E_n = \\left(n + \\frac{1}{2} \\right)\\hbar \\omega, n = 0,1,2,...$\n"
   ]
  },
  {
   "attachments": {},
   "cell_type": "markdown",
   "metadata": {},
   "source": [
    "## 真空态\n",
    "\n",
    "$\\left| 0 \\right\\rangle $是基态，对应0个（玻色）激发。真空态能量是$\\frac{\\hbar \\omega}{2}$\n",
    "\n",
    "<img src=\"https://pbs.twimg.com/media/GJotJ96a8AA4uWQ?format=jpg&name=medium\" width=\"300\">\n",
    "\n",
    "能级的台阶。"
   ]
  },
  {
   "cell_type": "code",
   "execution_count": null,
   "metadata": {},
   "outputs": [],
   "source": []
  }
 ],
 "metadata": {
  "kernelspec": {
   "display_name": "Python 3",
   "language": "python",
   "name": "python3"
  },
  "language_info": {
   "codemirror_mode": {
    "name": "ipython",
    "version": 3
   },
   "file_extension": ".py",
   "mimetype": "text/x-python",
   "name": "python",
   "nbconvert_exporter": "python",
   "pygments_lexer": "ipython3",
   "version": "3.8.3"
  }
 },
 "nbformat": 4,
 "nbformat_minor": 4
}
